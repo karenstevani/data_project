{
 "cells": [
  {
   "cell_type": "markdown",
   "metadata": {},
   "source": [
    "# How does location and value affect the review scores of airbnb?"
   ]
  },
  {
   "cell_type": "markdown",
   "metadata": {},
   "source": [
    "Sydney Airbnb Data Listing"
   ]
  },
  {
   "cell_type": "markdown",
   "metadata": {},
   "source": [
    "Karen Stevani (z5573992)"
   ]
  },
  {
   "cell_type": "code",
   "execution_count": 22,
   "metadata": {},
   "outputs": [],
   "source": [
    "import os\n",
    "import pandas as pd\n",
    "import matplotlib\n",
    "import matplotlib.pyplot as plt\n",
    "import seaborn as sns\n",
    "import geopandas as gpd\n",
    "import numpy as np\n",
    "import plotly.graph_objects as go\n",
    "from datetime import datetime"
   ]
  },
  {
   "cell_type": "code",
   "execution_count": 23,
   "metadata": {},
   "outputs": [],
   "source": [
    "%matplotlib inline"
   ]
  },
  {
   "cell_type": "code",
   "execution_count": 24,
   "metadata": {},
   "outputs": [],
   "source": [
    "plt.rcParams[\"figure.figsize\"] = (30, 15)"
   ]
  },
  {
   "cell_type": "code",
   "execution_count": 25,
   "metadata": {},
   "outputs": [],
   "source": [
    "saved_style_state = matplotlib.rcParams.copy()  # give us a style state to go back to"
   ]
  },
  {
   "cell_type": "code",
   "execution_count": 26,
   "metadata": {},
   "outputs": [
    {
     "name": "stdout",
     "output_type": "stream",
     "text": [
      "loading from file\n",
      "done\n"
     ]
    }
   ],
   "source": [
    "#loading from file\n",
    "if os.path.isfile(\"sydney_airbnb_listing_copy.csv\"):\n",
    "    filepath = \"sydney_airbnb_listing_copy.csv\"\n",
    "    print(\"loading from file\")\n",
    "else:\n",
    "    filepath = \"https://data.insideairbnb.com/australia/nsw/sydney/2024-03-16/data/listings.csv.gz\"\n",
    "    print(\"loading from the internet\")\n",
    "\n",
    "listing_data = pd.read_csv(filepath)\n",
    "print(\"done\")"
   ]
  },
  {
   "cell_type": "markdown",
   "metadata": {},
   "source": [
    "Data Set: \"Detailed Sydney Listings data\" from insideairbnb.com\n",
    "\n",
    "Published by: Inside Airbnb, licensed under a Creative Commons Attribution 4.0 International License, on 10 June 2024\n",
    "\n",
    "This data explores ...."
   ]
  },
  {
   "cell_type": "code",
   "execution_count": 27,
   "metadata": {},
   "outputs": [
    {
     "data": {
      "text/html": [
       "<div>\n",
       "<style scoped>\n",
       "    .dataframe tbody tr th:only-of-type {\n",
       "        vertical-align: middle;\n",
       "    }\n",
       "\n",
       "    .dataframe tbody tr th {\n",
       "        vertical-align: top;\n",
       "    }\n",
       "\n",
       "    .dataframe thead th {\n",
       "        text-align: right;\n",
       "    }\n",
       "</style>\n",
       "<table border=\"1\" class=\"dataframe\">\n",
       "  <thead>\n",
       "    <tr style=\"text-align: right;\">\n",
       "      <th></th>\n",
       "      <th>id</th>\n",
       "      <th>listing_url</th>\n",
       "      <th>scrape_id</th>\n",
       "      <th>last_scraped</th>\n",
       "      <th>source</th>\n",
       "      <th>name</th>\n",
       "      <th>description</th>\n",
       "      <th>neighborhood_overview</th>\n",
       "      <th>picture_url</th>\n",
       "      <th>host_id</th>\n",
       "      <th>...</th>\n",
       "      <th>review_scores_communication</th>\n",
       "      <th>review_scores_location</th>\n",
       "      <th>review_scores_value</th>\n",
       "      <th>license</th>\n",
       "      <th>instant_bookable</th>\n",
       "      <th>calculated_host_listings_count</th>\n",
       "      <th>calculated_host_listings_count_entire_homes</th>\n",
       "      <th>calculated_host_listings_count_private_rooms</th>\n",
       "      <th>calculated_host_listings_count_shared_rooms</th>\n",
       "      <th>reviews_per_month</th>\n",
       "    </tr>\n",
       "  </thead>\n",
       "  <tbody>\n",
       "    <tr>\n",
       "      <th>0</th>\n",
       "      <td>1050164598350388320</td>\n",
       "      <td>https://www.airbnb.com/rooms/1050164598350388320</td>\n",
       "      <td>20240316023820</td>\n",
       "      <td>2024-03-18</td>\n",
       "      <td>city scrape</td>\n",
       "      <td>Self service English breakfast</td>\n",
       "      <td>Close to transport airport older style unit ne...</td>\n",
       "      <td>NaN</td>\n",
       "      <td>https://a0.muscache.com/pictures/miso/Hosting-...</td>\n",
       "      <td>211218678</td>\n",
       "      <td>...</td>\n",
       "      <td>NaN</td>\n",
       "      <td>NaN</td>\n",
       "      <td>NaN</td>\n",
       "      <td>PID-STRA-61891</td>\n",
       "      <td>f</td>\n",
       "      <td>1</td>\n",
       "      <td>0</td>\n",
       "      <td>1</td>\n",
       "      <td>0</td>\n",
       "      <td>NaN</td>\n",
       "    </tr>\n",
       "    <tr>\n",
       "      <th>1</th>\n",
       "      <td>1096082243192434668</td>\n",
       "      <td>https://www.airbnb.com/rooms/1096082243192434668</td>\n",
       "      <td>20240316023820</td>\n",
       "      <td>2024-03-18</td>\n",
       "      <td>city scrape</td>\n",
       "      <td>Apartment in Rushcutters Bay</td>\n",
       "      <td>Full 2 bedroom apartment with balcony. Walking...</td>\n",
       "      <td>NaN</td>\n",
       "      <td>https://a0.muscache.com/pictures/miso/Hosting-...</td>\n",
       "      <td>26721338</td>\n",
       "      <td>...</td>\n",
       "      <td>NaN</td>\n",
       "      <td>NaN</td>\n",
       "      <td>NaN</td>\n",
       "      <td>Exempt</td>\n",
       "      <td>f</td>\n",
       "      <td>2</td>\n",
       "      <td>1</td>\n",
       "      <td>1</td>\n",
       "      <td>0</td>\n",
       "      <td>NaN</td>\n",
       "    </tr>\n",
       "    <tr>\n",
       "      <th>2</th>\n",
       "      <td>2167538</td>\n",
       "      <td>https://www.airbnb.com/rooms/2167538</td>\n",
       "      <td>20240316023820</td>\n",
       "      <td>2024-03-18</td>\n",
       "      <td>city scrape</td>\n",
       "      <td>Modern Sydney home near beach,shops</td>\n",
       "      <td>**Availability extremely flexible**&lt;br /&gt;&lt;br /...</td>\n",
       "      <td>Queens Park is a safe and friendly neighbourho...</td>\n",
       "      <td>https://a0.muscache.com/pictures/29922910/2399...</td>\n",
       "      <td>11059668</td>\n",
       "      <td>...</td>\n",
       "      <td>5.00</td>\n",
       "      <td>5.00</td>\n",
       "      <td>4.00</td>\n",
       "      <td>NaN</td>\n",
       "      <td>f</td>\n",
       "      <td>1</td>\n",
       "      <td>1</td>\n",
       "      <td>0</td>\n",
       "      <td>0</td>\n",
       "      <td>0.01</td>\n",
       "    </tr>\n",
       "    <tr>\n",
       "      <th>3</th>\n",
       "      <td>790607305500629830</td>\n",
       "      <td>https://www.airbnb.com/rooms/790607305500629830</td>\n",
       "      <td>20240316023820</td>\n",
       "      <td>2024-03-18</td>\n",
       "      <td>city scrape</td>\n",
       "      <td>Luxury double room</td>\n",
       "      <td>Relax in this tranquil and stylish space.</td>\n",
       "      <td>NaN</td>\n",
       "      <td>https://a0.muscache.com/pictures/miso/Hosting-...</td>\n",
       "      <td>202112801</td>\n",
       "      <td>...</td>\n",
       "      <td>4.77</td>\n",
       "      <td>4.68</td>\n",
       "      <td>4.68</td>\n",
       "      <td>PID-STRA-21723</td>\n",
       "      <td>f</td>\n",
       "      <td>30</td>\n",
       "      <td>5</td>\n",
       "      <td>25</td>\n",
       "      <td>0</td>\n",
       "      <td>2.13</td>\n",
       "    </tr>\n",
       "    <tr>\n",
       "      <th>4</th>\n",
       "      <td>641106357139201992</td>\n",
       "      <td>https://www.airbnb.com/rooms/641106357139201992</td>\n",
       "      <td>20240316023820</td>\n",
       "      <td>2024-03-18</td>\n",
       "      <td>city scrape</td>\n",
       "      <td>Chic Studio Apartment in Prime Bondi Location</td>\n",
       "      <td>Immerse yourself in the vibrant atmosphere of ...</td>\n",
       "      <td>Bondi is one of Australia’s most iconic suburb...</td>\n",
       "      <td>https://a0.muscache.com/pictures/prohost-api/H...</td>\n",
       "      <td>279001183</td>\n",
       "      <td>...</td>\n",
       "      <td>3.94</td>\n",
       "      <td>4.94</td>\n",
       "      <td>4.29</td>\n",
       "      <td>PID-STRA-36651</td>\n",
       "      <td>f</td>\n",
       "      <td>217</td>\n",
       "      <td>217</td>\n",
       "      <td>0</td>\n",
       "      <td>0</td>\n",
       "      <td>0.84</td>\n",
       "    </tr>\n",
       "  </tbody>\n",
       "</table>\n",
       "<p>5 rows × 75 columns</p>\n",
       "</div>"
      ],
      "text/plain": [
       "                    id                                       listing_url  \\\n",
       "0  1050164598350388320  https://www.airbnb.com/rooms/1050164598350388320   \n",
       "1  1096082243192434668  https://www.airbnb.com/rooms/1096082243192434668   \n",
       "2              2167538              https://www.airbnb.com/rooms/2167538   \n",
       "3   790607305500629830   https://www.airbnb.com/rooms/790607305500629830   \n",
       "4   641106357139201992   https://www.airbnb.com/rooms/641106357139201992   \n",
       "\n",
       "        scrape_id last_scraped       source  \\\n",
       "0  20240316023820   2024-03-18  city scrape   \n",
       "1  20240316023820   2024-03-18  city scrape   \n",
       "2  20240316023820   2024-03-18  city scrape   \n",
       "3  20240316023820   2024-03-18  city scrape   \n",
       "4  20240316023820   2024-03-18  city scrape   \n",
       "\n",
       "                                            name  \\\n",
       "0                 Self service English breakfast   \n",
       "1                   Apartment in Rushcutters Bay   \n",
       "2            Modern Sydney home near beach,shops   \n",
       "3                             Luxury double room   \n",
       "4  Chic Studio Apartment in Prime Bondi Location   \n",
       "\n",
       "                                         description  \\\n",
       "0  Close to transport airport older style unit ne...   \n",
       "1  Full 2 bedroom apartment with balcony. Walking...   \n",
       "2  **Availability extremely flexible**<br /><br /...   \n",
       "3          Relax in this tranquil and stylish space.   \n",
       "4  Immerse yourself in the vibrant atmosphere of ...   \n",
       "\n",
       "                               neighborhood_overview  \\\n",
       "0                                                NaN   \n",
       "1                                                NaN   \n",
       "2  Queens Park is a safe and friendly neighbourho...   \n",
       "3                                                NaN   \n",
       "4  Bondi is one of Australia’s most iconic suburb...   \n",
       "\n",
       "                                         picture_url    host_id  ...  \\\n",
       "0  https://a0.muscache.com/pictures/miso/Hosting-...  211218678  ...   \n",
       "1  https://a0.muscache.com/pictures/miso/Hosting-...   26721338  ...   \n",
       "2  https://a0.muscache.com/pictures/29922910/2399...   11059668  ...   \n",
       "3  https://a0.muscache.com/pictures/miso/Hosting-...  202112801  ...   \n",
       "4  https://a0.muscache.com/pictures/prohost-api/H...  279001183  ...   \n",
       "\n",
       "  review_scores_communication review_scores_location review_scores_value  \\\n",
       "0                         NaN                    NaN                 NaN   \n",
       "1                         NaN                    NaN                 NaN   \n",
       "2                        5.00                   5.00                4.00   \n",
       "3                        4.77                   4.68                4.68   \n",
       "4                        3.94                   4.94                4.29   \n",
       "\n",
       "          license instant_bookable calculated_host_listings_count  \\\n",
       "0  PID-STRA-61891                f                              1   \n",
       "1          Exempt                f                              2   \n",
       "2             NaN                f                              1   \n",
       "3  PID-STRA-21723                f                             30   \n",
       "4  PID-STRA-36651                f                            217   \n",
       "\n",
       "  calculated_host_listings_count_entire_homes  \\\n",
       "0                                           0   \n",
       "1                                           1   \n",
       "2                                           1   \n",
       "3                                           5   \n",
       "4                                         217   \n",
       "\n",
       "  calculated_host_listings_count_private_rooms  \\\n",
       "0                                            1   \n",
       "1                                            1   \n",
       "2                                            0   \n",
       "3                                           25   \n",
       "4                                            0   \n",
       "\n",
       "  calculated_host_listings_count_shared_rooms reviews_per_month  \n",
       "0                                           0               NaN  \n",
       "1                                           0               NaN  \n",
       "2                                           0              0.01  \n",
       "3                                           0              2.13  \n",
       "4                                           0              0.84  \n",
       "\n",
       "[5 rows x 75 columns]"
      ]
     },
     "execution_count": 27,
     "metadata": {},
     "output_type": "execute_result"
    }
   ],
   "source": [
    "listing_data.head()"
   ]
  },
  {
   "cell_type": "code",
   "execution_count": 28,
   "metadata": {},
   "outputs": [
    {
     "data": {
      "text/plain": [
       "Index(['id', 'listing_url', 'scrape_id', 'last_scraped', 'source', 'name',\n",
       "       'description', 'neighborhood_overview', 'picture_url', 'host_id',\n",
       "       'host_url', 'host_name', 'host_since', 'host_location', 'host_about',\n",
       "       'host_response_time', 'host_response_rate', 'host_acceptance_rate',\n",
       "       'host_is_superhost', 'host_thumbnail_url', 'host_picture_url',\n",
       "       'host_neighbourhood', 'host_listings_count',\n",
       "       'host_total_listings_count', 'host_verifications',\n",
       "       'host_has_profile_pic', 'host_identity_verified', 'neighbourhood',\n",
       "       'neighbourhood_cleansed', 'neighbourhood_group_cleansed', 'latitude',\n",
       "       'longitude', 'property_type', 'room_type', 'accommodates', 'bathrooms',\n",
       "       'bathrooms_text', 'bedrooms', 'beds', 'amenities', 'price',\n",
       "       'minimum_nights', 'maximum_nights', 'minimum_minimum_nights',\n",
       "       'maximum_minimum_nights', 'minimum_maximum_nights',\n",
       "       'maximum_maximum_nights', 'minimum_nights_avg_ntm',\n",
       "       'maximum_nights_avg_ntm', 'calendar_updated', 'has_availability',\n",
       "       'availability_30', 'availability_60', 'availability_90',\n",
       "       'availability_365', 'calendar_last_scraped', 'number_of_reviews',\n",
       "       'number_of_reviews_ltm', 'number_of_reviews_l30d', 'first_review',\n",
       "       'last_review', 'review_scores_rating', 'review_scores_accuracy',\n",
       "       'review_scores_cleanliness', 'review_scores_checkin',\n",
       "       'review_scores_communication', 'review_scores_location',\n",
       "       'review_scores_value', 'license', 'instant_bookable',\n",
       "       'calculated_host_listings_count',\n",
       "       'calculated_host_listings_count_entire_homes',\n",
       "       'calculated_host_listings_count_private_rooms',\n",
       "       'calculated_host_listings_count_shared_rooms', 'reviews_per_month'],\n",
       "      dtype='object')"
      ]
     },
     "execution_count": 28,
     "metadata": {},
     "output_type": "execute_result"
    }
   ],
   "source": [
    "listing_data.columns"
   ]
  },
  {
   "cell_type": "markdown",
   "metadata": {},
   "source": [
    "This dataset provides information on 14274 rows and 75 columns"
   ]
  },
  {
   "cell_type": "code",
   "execution_count": 29,
   "metadata": {},
   "outputs": [
    {
     "data": {
      "text/plain": [
       "0        $100.00\n",
       "1        $250.00\n",
       "2        $650.00\n",
       "3         $84.00\n",
       "4        $508.00\n",
       "          ...   \n",
       "14269     $88.00\n",
       "14270    $143.00\n",
       "14271    $120.00\n",
       "14272    $180.00\n",
       "14273    $123.00\n",
       "Name: price, Length: 14274, dtype: object"
      ]
     },
     "execution_count": 29,
     "metadata": {},
     "output_type": "execute_result"
    }
   ],
   "source": [
    "listing_data.price"
   ]
  },
  {
   "cell_type": "code",
   "execution_count": 30,
   "metadata": {},
   "outputs": [
    {
     "data": {
      "text/plain": [
       "0        2\n",
       "1        4\n",
       "2        5\n",
       "3        1\n",
       "4        2\n",
       "        ..\n",
       "14269    2\n",
       "14270    2\n",
       "14271    4\n",
       "14272    2\n",
       "14273    2\n",
       "Name: accommodates, Length: 14274, dtype: int64"
      ]
     },
     "execution_count": 30,
     "metadata": {},
     "output_type": "execute_result"
    }
   ],
   "source": [
    "listing_data.accommodates"
   ]
  },
  {
   "cell_type": "code",
   "execution_count": 39,
   "metadata": {},
   "outputs": [],
   "source": [
    "listing_data['price'] = pd.to_numeric(listing_data['price'], errors='coerce').astype('Int64')"
   ]
  },
  {
   "cell_type": "code",
   "execution_count": 40,
   "metadata": {},
   "outputs": [],
   "source": [
    "listing_data['standardprice'] = listing_data['price'] / listing_data['accommodates']\n",
    "\n",
    "listing_data['standardprice'] = listing_data['standardprice'].replace([float('inf'), -float('inf')], pd.NA)\n",
    "listing_data['standardprice'] = listing_data['standardprice'].fillna(0)"
   ]
  },
  {
   "cell_type": "code",
   "execution_count": 41,
   "metadata": {},
   "outputs": [
    {
     "data": {
      "text/plain": [
       "0        0.0\n",
       "1        0.0\n",
       "2        0.0\n",
       "3        0.0\n",
       "4        0.0\n",
       "        ... \n",
       "14269    0.0\n",
       "14270    0.0\n",
       "14271    0.0\n",
       "14272    0.0\n",
       "14273    0.0\n",
       "Name: standardprice, Length: 14274, dtype: Float64"
      ]
     },
     "execution_count": 41,
     "metadata": {},
     "output_type": "execute_result"
    }
   ],
   "source": [
    "listing_data.standardprice"
   ]
  }
 ],
 "metadata": {
  "kernelspec": {
   "display_name": "Python 3",
   "language": "python",
   "name": "python3"
  },
  "language_info": {
   "codemirror_mode": {
    "name": "ipython",
    "version": 3
   },
   "file_extension": ".py",
   "mimetype": "text/x-python",
   "name": "python",
   "nbconvert_exporter": "python",
   "pygments_lexer": "ipython3",
   "version": "3.12.3"
  }
 },
 "nbformat": 4,
 "nbformat_minor": 2
}
