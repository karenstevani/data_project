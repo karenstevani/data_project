{
 "cells": [
  {
   "cell_type": "code",
   "execution_count": 2,
   "metadata": {},
   "outputs": [],
   "source": [
    "import matplotlib\n",
    "import matplotlib.pyplot as plt\n",
    "import numpy as np\n",
    "import pandas as pd\n",
    "import os\n",
    "from datetime import datetime"
   ]
  },
  {
   "cell_type": "markdown",
   "metadata": {},
   "source": [
    "Some magic that tells jupyter to put graphs and things in the notebook instead of the default behaviour which is to save it as a file."
   ]
  },
  {
   "cell_type": "code",
   "execution_count": 3,
   "metadata": {},
   "outputs": [],
   "source": [
    "%matplotlib inline"
   ]
  },
  {
   "cell_type": "markdown",
   "metadata": {},
   "source": [
    "Set the size of the plots that will come out when we ask for them. Annoyingly, these are in inches. Whatever an \"inch\" is"
   ]
  },
  {
   "cell_type": "code",
   "execution_count": 4,
   "metadata": {},
   "outputs": [],
   "source": [
    "plt.rcParams[\"figure.figsize\"] = (10, 5)"
   ]
  },
  {
   "cell_type": "code",
   "execution_count": 5,
   "metadata": {},
   "outputs": [],
   "source": [
    "saved_style_state = matplotlib.rcParams.copy()  # give us a style state to go back to"
   ]
  },
  {
   "cell_type": "markdown",
   "metadata": {},
   "source": [
    "Let's check to see if we've already downloaded the data. It's a big file, so we don't want to do it every time we run the code. Even just loading from file takes a few seconds!\n",
    "\n",
    "Pandas is pretty smart, it can get data from the internet just as easily as from the file system, it just takes a bit longer."
   ]
  },
  {
   "cell_type": "code",
   "execution_count": 6,
   "metadata": {},
   "outputs": [
    {
     "name": "stdout",
     "output_type": "stream",
     "text": [
      "loading from file\n",
      "done\n"
     ]
    }
   ],
   "source": [
    "if os.path.isfile(\"sydney_airbnb_listing.csv\"):\n",
    "    filepath = \"sydney_airbnb_listing.csv\"\n",
    "    print(\"loading from file\")\n",
    "else:\n",
    "    filepath = \"https://data.insideairbnb.com/australia/nsw/sydney/2024-03-16/data/listings.csv.gz\"\n",
    "    print(\"loading from the internet\")\n",
    "\n",
    "listing_data = pd.read_csv(filepath)\n",
    "print(\"done\")"
   ]
  },
  {
   "cell_type": "code",
   "execution_count": 7,
   "metadata": {},
   "outputs": [
    {
     "data": {
      "text/html": [
       "<div>\n",
       "<style scoped>\n",
       "    .dataframe tbody tr th:only-of-type {\n",
       "        vertical-align: middle;\n",
       "    }\n",
       "\n",
       "    .dataframe tbody tr th {\n",
       "        vertical-align: top;\n",
       "    }\n",
       "\n",
       "    .dataframe thead th {\n",
       "        text-align: right;\n",
       "    }\n",
       "</style>\n",
       "<table border=\"1\" class=\"dataframe\">\n",
       "  <thead>\n",
       "    <tr style=\"text-align: right;\">\n",
       "      <th></th>\n",
       "      <th>id</th>\n",
       "      <th>listing_url</th>\n",
       "      <th>scrape_id</th>\n",
       "      <th>last_scraped</th>\n",
       "      <th>source</th>\n",
       "      <th>name</th>\n",
       "      <th>description</th>\n",
       "      <th>neighborhood_overview</th>\n",
       "      <th>picture_url</th>\n",
       "      <th>host_id</th>\n",
       "      <th>...</th>\n",
       "      <th>review_scores_communication</th>\n",
       "      <th>review_scores_location</th>\n",
       "      <th>review_scores_value</th>\n",
       "      <th>license</th>\n",
       "      <th>instant_bookable</th>\n",
       "      <th>calculated_host_listings_count</th>\n",
       "      <th>calculated_host_listings_count_entire_homes</th>\n",
       "      <th>calculated_host_listings_count_private_rooms</th>\n",
       "      <th>calculated_host_listings_count_shared_rooms</th>\n",
       "      <th>reviews_per_month</th>\n",
       "    </tr>\n",
       "  </thead>\n",
       "  <tbody>\n",
       "    <tr>\n",
       "      <th>0</th>\n",
       "      <td>1050164598350388320</td>\n",
       "      <td>https://www.airbnb.com/rooms/1050164598350388320</td>\n",
       "      <td>20240316023820</td>\n",
       "      <td>2024-03-18</td>\n",
       "      <td>city scrape</td>\n",
       "      <td>Self service English breakfast</td>\n",
       "      <td>Close to transport airport older style unit ne...</td>\n",
       "      <td>NaN</td>\n",
       "      <td>https://a0.muscache.com/pictures/miso/Hosting-...</td>\n",
       "      <td>211218678</td>\n",
       "      <td>...</td>\n",
       "      <td>NaN</td>\n",
       "      <td>NaN</td>\n",
       "      <td>NaN</td>\n",
       "      <td>PID-STRA-61891</td>\n",
       "      <td>f</td>\n",
       "      <td>1</td>\n",
       "      <td>0</td>\n",
       "      <td>1</td>\n",
       "      <td>0</td>\n",
       "      <td>NaN</td>\n",
       "    </tr>\n",
       "    <tr>\n",
       "      <th>1</th>\n",
       "      <td>1096082243192434668</td>\n",
       "      <td>https://www.airbnb.com/rooms/1096082243192434668</td>\n",
       "      <td>20240316023820</td>\n",
       "      <td>2024-03-18</td>\n",
       "      <td>city scrape</td>\n",
       "      <td>Apartment in Rushcutters Bay</td>\n",
       "      <td>Full 2 bedroom apartment with balcony. Walking...</td>\n",
       "      <td>NaN</td>\n",
       "      <td>https://a0.muscache.com/pictures/miso/Hosting-...</td>\n",
       "      <td>26721338</td>\n",
       "      <td>...</td>\n",
       "      <td>NaN</td>\n",
       "      <td>NaN</td>\n",
       "      <td>NaN</td>\n",
       "      <td>Exempt</td>\n",
       "      <td>f</td>\n",
       "      <td>2</td>\n",
       "      <td>1</td>\n",
       "      <td>1</td>\n",
       "      <td>0</td>\n",
       "      <td>NaN</td>\n",
       "    </tr>\n",
       "    <tr>\n",
       "      <th>2</th>\n",
       "      <td>2167538</td>\n",
       "      <td>https://www.airbnb.com/rooms/2167538</td>\n",
       "      <td>20240316023820</td>\n",
       "      <td>2024-03-18</td>\n",
       "      <td>city scrape</td>\n",
       "      <td>Modern Sydney home near beach,shops</td>\n",
       "      <td>**Availability extremely flexible**&lt;br /&gt;&lt;br /...</td>\n",
       "      <td>Queens Park is a safe and friendly neighbourho...</td>\n",
       "      <td>https://a0.muscache.com/pictures/29922910/2399...</td>\n",
       "      <td>11059668</td>\n",
       "      <td>...</td>\n",
       "      <td>5.00</td>\n",
       "      <td>5.00</td>\n",
       "      <td>4.00</td>\n",
       "      <td>NaN</td>\n",
       "      <td>f</td>\n",
       "      <td>1</td>\n",
       "      <td>1</td>\n",
       "      <td>0</td>\n",
       "      <td>0</td>\n",
       "      <td>0.01</td>\n",
       "    </tr>\n",
       "    <tr>\n",
       "      <th>3</th>\n",
       "      <td>790607305500629830</td>\n",
       "      <td>https://www.airbnb.com/rooms/790607305500629830</td>\n",
       "      <td>20240316023820</td>\n",
       "      <td>2024-03-18</td>\n",
       "      <td>city scrape</td>\n",
       "      <td>Luxury double room</td>\n",
       "      <td>Relax in this tranquil and stylish space.</td>\n",
       "      <td>NaN</td>\n",
       "      <td>https://a0.muscache.com/pictures/miso/Hosting-...</td>\n",
       "      <td>202112801</td>\n",
       "      <td>...</td>\n",
       "      <td>4.77</td>\n",
       "      <td>4.68</td>\n",
       "      <td>4.68</td>\n",
       "      <td>PID-STRA-21723</td>\n",
       "      <td>f</td>\n",
       "      <td>30</td>\n",
       "      <td>5</td>\n",
       "      <td>25</td>\n",
       "      <td>0</td>\n",
       "      <td>2.13</td>\n",
       "    </tr>\n",
       "    <tr>\n",
       "      <th>4</th>\n",
       "      <td>641106357139201992</td>\n",
       "      <td>https://www.airbnb.com/rooms/641106357139201992</td>\n",
       "      <td>20240316023820</td>\n",
       "      <td>2024-03-18</td>\n",
       "      <td>city scrape</td>\n",
       "      <td>Chic Studio Apartment in Prime Bondi Location</td>\n",
       "      <td>Immerse yourself in the vibrant atmosphere of ...</td>\n",
       "      <td>Bondi is one of Australia’s most iconic suburb...</td>\n",
       "      <td>https://a0.muscache.com/pictures/prohost-api/H...</td>\n",
       "      <td>279001183</td>\n",
       "      <td>...</td>\n",
       "      <td>3.94</td>\n",
       "      <td>4.94</td>\n",
       "      <td>4.29</td>\n",
       "      <td>PID-STRA-36651</td>\n",
       "      <td>f</td>\n",
       "      <td>217</td>\n",
       "      <td>217</td>\n",
       "      <td>0</td>\n",
       "      <td>0</td>\n",
       "      <td>0.84</td>\n",
       "    </tr>\n",
       "  </tbody>\n",
       "</table>\n",
       "<p>5 rows × 75 columns</p>\n",
       "</div>"
      ],
      "text/plain": [
       "                    id                                       listing_url  \\\n",
       "0  1050164598350388320  https://www.airbnb.com/rooms/1050164598350388320   \n",
       "1  1096082243192434668  https://www.airbnb.com/rooms/1096082243192434668   \n",
       "2              2167538              https://www.airbnb.com/rooms/2167538   \n",
       "3   790607305500629830   https://www.airbnb.com/rooms/790607305500629830   \n",
       "4   641106357139201992   https://www.airbnb.com/rooms/641106357139201992   \n",
       "\n",
       "        scrape_id last_scraped       source  \\\n",
       "0  20240316023820   2024-03-18  city scrape   \n",
       "1  20240316023820   2024-03-18  city scrape   \n",
       "2  20240316023820   2024-03-18  city scrape   \n",
       "3  20240316023820   2024-03-18  city scrape   \n",
       "4  20240316023820   2024-03-18  city scrape   \n",
       "\n",
       "                                            name  \\\n",
       "0                 Self service English breakfast   \n",
       "1                   Apartment in Rushcutters Bay   \n",
       "2            Modern Sydney home near beach,shops   \n",
       "3                             Luxury double room   \n",
       "4  Chic Studio Apartment in Prime Bondi Location   \n",
       "\n",
       "                                         description  \\\n",
       "0  Close to transport airport older style unit ne...   \n",
       "1  Full 2 bedroom apartment with balcony. Walking...   \n",
       "2  **Availability extremely flexible**<br /><br /...   \n",
       "3          Relax in this tranquil and stylish space.   \n",
       "4  Immerse yourself in the vibrant atmosphere of ...   \n",
       "\n",
       "                               neighborhood_overview  \\\n",
       "0                                                NaN   \n",
       "1                                                NaN   \n",
       "2  Queens Park is a safe and friendly neighbourho...   \n",
       "3                                                NaN   \n",
       "4  Bondi is one of Australia’s most iconic suburb...   \n",
       "\n",
       "                                         picture_url    host_id  ...  \\\n",
       "0  https://a0.muscache.com/pictures/miso/Hosting-...  211218678  ...   \n",
       "1  https://a0.muscache.com/pictures/miso/Hosting-...   26721338  ...   \n",
       "2  https://a0.muscache.com/pictures/29922910/2399...   11059668  ...   \n",
       "3  https://a0.muscache.com/pictures/miso/Hosting-...  202112801  ...   \n",
       "4  https://a0.muscache.com/pictures/prohost-api/H...  279001183  ...   \n",
       "\n",
       "  review_scores_communication review_scores_location review_scores_value  \\\n",
       "0                         NaN                    NaN                 NaN   \n",
       "1                         NaN                    NaN                 NaN   \n",
       "2                        5.00                   5.00                4.00   \n",
       "3                        4.77                   4.68                4.68   \n",
       "4                        3.94                   4.94                4.29   \n",
       "\n",
       "          license instant_bookable calculated_host_listings_count  \\\n",
       "0  PID-STRA-61891                f                              1   \n",
       "1          Exempt                f                              2   \n",
       "2             NaN                f                              1   \n",
       "3  PID-STRA-21723                f                             30   \n",
       "4  PID-STRA-36651                f                            217   \n",
       "\n",
       "  calculated_host_listings_count_entire_homes  \\\n",
       "0                                           0   \n",
       "1                                           1   \n",
       "2                                           1   \n",
       "3                                           5   \n",
       "4                                         217   \n",
       "\n",
       "  calculated_host_listings_count_private_rooms  \\\n",
       "0                                            1   \n",
       "1                                            1   \n",
       "2                                            0   \n",
       "3                                           25   \n",
       "4                                            0   \n",
       "\n",
       "  calculated_host_listings_count_shared_rooms reviews_per_month  \n",
       "0                                           0               NaN  \n",
       "1                                           0               NaN  \n",
       "2                                           0              0.01  \n",
       "3                                           0              2.13  \n",
       "4                                           0              0.84  \n",
       "\n",
       "[5 rows x 75 columns]"
      ]
     },
     "execution_count": 7,
     "metadata": {},
     "output_type": "execute_result"
    }
   ],
   "source": [
    "listing_data.head()"
   ]
  },
  {
   "cell_type": "markdown",
   "metadata": {},
   "source": [
    "`dataframe.head()` gives the top 5 rows, if it was `dataframe.head(3)` it would give the top 3 rows. \n",
    "\n",
    "`dataframe.sample(5)` gives you 5 random rows from your dataframe. It's a good way to avoid the trap where you confuse yourself the first few rows are odd."
   ]
  },
  {
   "cell_type": "code",
   "execution_count": 8,
   "metadata": {},
   "outputs": [
    {
     "data": {
      "text/html": [
       "<div>\n",
       "<style scoped>\n",
       "    .dataframe tbody tr th:only-of-type {\n",
       "        vertical-align: middle;\n",
       "    }\n",
       "\n",
       "    .dataframe tbody tr th {\n",
       "        vertical-align: top;\n",
       "    }\n",
       "\n",
       "    .dataframe thead th {\n",
       "        text-align: right;\n",
       "    }\n",
       "</style>\n",
       "<table border=\"1\" class=\"dataframe\">\n",
       "  <thead>\n",
       "    <tr style=\"text-align: right;\">\n",
       "      <th></th>\n",
       "      <th>id</th>\n",
       "      <th>listing_url</th>\n",
       "      <th>scrape_id</th>\n",
       "      <th>last_scraped</th>\n",
       "      <th>source</th>\n",
       "      <th>name</th>\n",
       "      <th>description</th>\n",
       "      <th>neighborhood_overview</th>\n",
       "      <th>picture_url</th>\n",
       "      <th>host_id</th>\n",
       "      <th>...</th>\n",
       "      <th>review_scores_communication</th>\n",
       "      <th>review_scores_location</th>\n",
       "      <th>review_scores_value</th>\n",
       "      <th>license</th>\n",
       "      <th>instant_bookable</th>\n",
       "      <th>calculated_host_listings_count</th>\n",
       "      <th>calculated_host_listings_count_entire_homes</th>\n",
       "      <th>calculated_host_listings_count_private_rooms</th>\n",
       "      <th>calculated_host_listings_count_shared_rooms</th>\n",
       "      <th>reviews_per_month</th>\n",
       "    </tr>\n",
       "  </thead>\n",
       "  <tbody>\n",
       "    <tr>\n",
       "      <th>2855</th>\n",
       "      <td>786675216193413237</td>\n",
       "      <td>https://www.airbnb.com/rooms/786675216193413237</td>\n",
       "      <td>20240316023820</td>\n",
       "      <td>2024-03-18</td>\n",
       "      <td>city scrape</td>\n",
       "      <td>Darlinghurst Delight</td>\n",
       "      <td>Truly unique &amp; beautifully presented inner cit...</td>\n",
       "      <td>NaN</td>\n",
       "      <td>https://a0.muscache.com/pictures/miso/Hosting-...</td>\n",
       "      <td>41215678</td>\n",
       "      <td>...</td>\n",
       "      <td>5.00</td>\n",
       "      <td>5.00</td>\n",
       "      <td>5.00</td>\n",
       "      <td>PID-STRA-45650</td>\n",
       "      <td>f</td>\n",
       "      <td>28</td>\n",
       "      <td>28</td>\n",
       "      <td>0</td>\n",
       "      <td>0</td>\n",
       "      <td>0.20</td>\n",
       "    </tr>\n",
       "    <tr>\n",
       "      <th>8398</th>\n",
       "      <td>2299737</td>\n",
       "      <td>https://www.airbnb.com/rooms/2299737</td>\n",
       "      <td>20240316023820</td>\n",
       "      <td>2024-03-18</td>\n",
       "      <td>city scrape</td>\n",
       "      <td>Metro Apartments on Darling Harbour</td>\n",
       "      <td>Loft style apartments close to Darling Harbour...</td>\n",
       "      <td>Ideally located on the city side of Darling Ha...</td>\n",
       "      <td>https://a0.muscache.com/pictures/76c06abb-fc7f...</td>\n",
       "      <td>11747646</td>\n",
       "      <td>...</td>\n",
       "      <td>4.65</td>\n",
       "      <td>4.81</td>\n",
       "      <td>4.51</td>\n",
       "      <td>Exempt</td>\n",
       "      <td>f</td>\n",
       "      <td>2</td>\n",
       "      <td>1</td>\n",
       "      <td>0</td>\n",
       "      <td>0</td>\n",
       "      <td>6.72</td>\n",
       "    </tr>\n",
       "    <tr>\n",
       "      <th>8092</th>\n",
       "      <td>21194839</td>\n",
       "      <td>https://www.airbnb.com/rooms/21194839</td>\n",
       "      <td>20240316023820</td>\n",
       "      <td>2024-03-18</td>\n",
       "      <td>city scrape</td>\n",
       "      <td>Cosy house in the trees on Pittwater</td>\n",
       "      <td>Our cosy cabin is set-back from the water up t...</td>\n",
       "      <td>Coasters Retreat is a small friendly community...</td>\n",
       "      <td>https://a0.muscache.com/pictures/bed02b72-f7e6...</td>\n",
       "      <td>1002864</td>\n",
       "      <td>...</td>\n",
       "      <td>4.91</td>\n",
       "      <td>4.96</td>\n",
       "      <td>4.55</td>\n",
       "      <td>PID-STRA-5270</td>\n",
       "      <td>f</td>\n",
       "      <td>1</td>\n",
       "      <td>1</td>\n",
       "      <td>0</td>\n",
       "      <td>0</td>\n",
       "      <td>0.70</td>\n",
       "    </tr>\n",
       "    <tr>\n",
       "      <th>6481</th>\n",
       "      <td>916530762919363568</td>\n",
       "      <td>https://www.airbnb.com/rooms/916530762919363568</td>\n",
       "      <td>20240316023820</td>\n",
       "      <td>2024-03-18</td>\n",
       "      <td>city scrape</td>\n",
       "      <td>Aircabin | Cecil Park | 2.5 Acres Luxury Mansion</td>\n",
       "      <td>When it comes to indulging in grand and opulen...</td>\n",
       "      <td>NaN</td>\n",
       "      <td>https://a0.muscache.com/pictures/miso/Hosting-...</td>\n",
       "      <td>484473459</td>\n",
       "      <td>...</td>\n",
       "      <td>5.00</td>\n",
       "      <td>4.82</td>\n",
       "      <td>4.18</td>\n",
       "      <td>PID-STRA-51377</td>\n",
       "      <td>f</td>\n",
       "      <td>62</td>\n",
       "      <td>62</td>\n",
       "      <td>0</td>\n",
       "      <td>0</td>\n",
       "      <td>1.38</td>\n",
       "    </tr>\n",
       "    <tr>\n",
       "      <th>5887</th>\n",
       "      <td>52678078</td>\n",
       "      <td>https://www.airbnb.com/rooms/52678078</td>\n",
       "      <td>20240316023820</td>\n",
       "      <td>2024-03-18</td>\n",
       "      <td>city scrape</td>\n",
       "      <td>Water and Bush Views, what else do you need?</td>\n",
       "      <td>A lovely space amongst the tree tops with bush...</td>\n",
       "      <td>NaN</td>\n",
       "      <td>https://a0.muscache.com/pictures/f46644b7-f3c9...</td>\n",
       "      <td>501392</td>\n",
       "      <td>...</td>\n",
       "      <td>NaN</td>\n",
       "      <td>NaN</td>\n",
       "      <td>NaN</td>\n",
       "      <td>PID-STRA-42836</td>\n",
       "      <td>f</td>\n",
       "      <td>1</td>\n",
       "      <td>1</td>\n",
       "      <td>0</td>\n",
       "      <td>0</td>\n",
       "      <td>NaN</td>\n",
       "    </tr>\n",
       "  </tbody>\n",
       "</table>\n",
       "<p>5 rows × 75 columns</p>\n",
       "</div>"
      ],
      "text/plain": [
       "                      id                                      listing_url  \\\n",
       "2855  786675216193413237  https://www.airbnb.com/rooms/786675216193413237   \n",
       "8398             2299737             https://www.airbnb.com/rooms/2299737   \n",
       "8092            21194839            https://www.airbnb.com/rooms/21194839   \n",
       "6481  916530762919363568  https://www.airbnb.com/rooms/916530762919363568   \n",
       "5887            52678078            https://www.airbnb.com/rooms/52678078   \n",
       "\n",
       "           scrape_id last_scraped       source  \\\n",
       "2855  20240316023820   2024-03-18  city scrape   \n",
       "8398  20240316023820   2024-03-18  city scrape   \n",
       "8092  20240316023820   2024-03-18  city scrape   \n",
       "6481  20240316023820   2024-03-18  city scrape   \n",
       "5887  20240316023820   2024-03-18  city scrape   \n",
       "\n",
       "                                                  name  \\\n",
       "2855                              Darlinghurst Delight   \n",
       "8398               Metro Apartments on Darling Harbour   \n",
       "8092              Cosy house in the trees on Pittwater   \n",
       "6481  Aircabin | Cecil Park | 2.5 Acres Luxury Mansion   \n",
       "5887      Water and Bush Views, what else do you need?   \n",
       "\n",
       "                                            description  \\\n",
       "2855  Truly unique & beautifully presented inner cit...   \n",
       "8398  Loft style apartments close to Darling Harbour...   \n",
       "8092  Our cosy cabin is set-back from the water up t...   \n",
       "6481  When it comes to indulging in grand and opulen...   \n",
       "5887  A lovely space amongst the tree tops with bush...   \n",
       "\n",
       "                                  neighborhood_overview  \\\n",
       "2855                                                NaN   \n",
       "8398  Ideally located on the city side of Darling Ha...   \n",
       "8092  Coasters Retreat is a small friendly community...   \n",
       "6481                                                NaN   \n",
       "5887                                                NaN   \n",
       "\n",
       "                                            picture_url    host_id  ...  \\\n",
       "2855  https://a0.muscache.com/pictures/miso/Hosting-...   41215678  ...   \n",
       "8398  https://a0.muscache.com/pictures/76c06abb-fc7f...   11747646  ...   \n",
       "8092  https://a0.muscache.com/pictures/bed02b72-f7e6...    1002864  ...   \n",
       "6481  https://a0.muscache.com/pictures/miso/Hosting-...  484473459  ...   \n",
       "5887  https://a0.muscache.com/pictures/f46644b7-f3c9...     501392  ...   \n",
       "\n",
       "     review_scores_communication review_scores_location review_scores_value  \\\n",
       "2855                        5.00                   5.00                5.00   \n",
       "8398                        4.65                   4.81                4.51   \n",
       "8092                        4.91                   4.96                4.55   \n",
       "6481                        5.00                   4.82                4.18   \n",
       "5887                         NaN                    NaN                 NaN   \n",
       "\n",
       "             license instant_bookable calculated_host_listings_count  \\\n",
       "2855  PID-STRA-45650                f                             28   \n",
       "8398          Exempt                f                              2   \n",
       "8092   PID-STRA-5270                f                              1   \n",
       "6481  PID-STRA-51377                f                             62   \n",
       "5887  PID-STRA-42836                f                              1   \n",
       "\n",
       "     calculated_host_listings_count_entire_homes  \\\n",
       "2855                                          28   \n",
       "8398                                           1   \n",
       "8092                                           1   \n",
       "6481                                          62   \n",
       "5887                                           1   \n",
       "\n",
       "     calculated_host_listings_count_private_rooms  \\\n",
       "2855                                            0   \n",
       "8398                                            0   \n",
       "8092                                            0   \n",
       "6481                                            0   \n",
       "5887                                            0   \n",
       "\n",
       "     calculated_host_listings_count_shared_rooms reviews_per_month  \n",
       "2855                                           0              0.20  \n",
       "8398                                           0              6.72  \n",
       "8092                                           0              0.70  \n",
       "6481                                           0              1.38  \n",
       "5887                                           0               NaN  \n",
       "\n",
       "[5 rows x 75 columns]"
      ]
     },
     "execution_count": 8,
     "metadata": {},
     "output_type": "execute_result"
    }
   ],
   "source": [
    "listing_data.sample(5)"
   ]
  },
  {
   "cell_type": "markdown",
   "metadata": {},
   "source": [
    "We can also get the list of columns out of the data frame"
   ]
  },
  {
   "cell_type": "code",
   "execution_count": 9,
   "metadata": {},
   "outputs": [
    {
     "data": {
      "text/plain": [
       "Index(['id', 'listing_url', 'scrape_id', 'last_scraped', 'source', 'name',\n",
       "       'description', 'neighborhood_overview', 'picture_url', 'host_id',\n",
       "       'host_url', 'host_name', 'host_since', 'host_location', 'host_about',\n",
       "       'host_response_time', 'host_response_rate', 'host_acceptance_rate',\n",
       "       'host_is_superhost', 'host_thumbnail_url', 'host_picture_url',\n",
       "       'host_neighbourhood', 'host_listings_count',\n",
       "       'host_total_listings_count', 'host_verifications',\n",
       "       'host_has_profile_pic', 'host_identity_verified', 'neighbourhood',\n",
       "       'neighbourhood_cleansed', 'neighbourhood_group_cleansed', 'latitude',\n",
       "       'longitude', 'property_type', 'room_type', 'accommodates', 'bathrooms',\n",
       "       'bathrooms_text', 'bedrooms', 'beds', 'amenities', 'price',\n",
       "       'minimum_nights', 'maximum_nights', 'minimum_minimum_nights',\n",
       "       'maximum_minimum_nights', 'minimum_maximum_nights',\n",
       "       'maximum_maximum_nights', 'minimum_nights_avg_ntm',\n",
       "       'maximum_nights_avg_ntm', 'calendar_updated', 'has_availability',\n",
       "       'availability_30', 'availability_60', 'availability_90',\n",
       "       'availability_365', 'calendar_last_scraped', 'number_of_reviews',\n",
       "       'number_of_reviews_ltm', 'number_of_reviews_l30d', 'first_review',\n",
       "       'last_review', 'review_scores_rating', 'review_scores_accuracy',\n",
       "       'review_scores_cleanliness', 'review_scores_checkin',\n",
       "       'review_scores_communication', 'review_scores_location',\n",
       "       'review_scores_value', 'license', 'instant_bookable',\n",
       "       'calculated_host_listings_count',\n",
       "       'calculated_host_listings_count_entire_homes',\n",
       "       'calculated_host_listings_count_private_rooms',\n",
       "       'calculated_host_listings_count_shared_rooms', 'reviews_per_month'],\n",
       "      dtype='object')"
      ]
     },
     "execution_count": 9,
     "metadata": {},
     "output_type": "execute_result"
    }
   ],
   "source": [
    "listing_data.columns"
   ]
  },
  {
   "cell_type": "markdown",
   "metadata": {},
   "source": [
    "This is useful for you when you are documenting your dataset, you can make each column a heading, and then describe that column's characteristics."
   ]
  },
  {
   "cell_type": "markdown",
   "metadata": {},
   "source": [
    "You can't index a row directly, you need to use the `iloc` property. That means the _interger location_, so the zeroeth row would be `df.iloc[0]`. \n",
    "\n",
    "This gives us the row as a _Series_.\n",
    "\n",
    "↓"
   ]
  },
  {
   "cell_type": "code",
   "execution_count": 10,
   "metadata": {},
   "outputs": [
    {
     "data": {
      "text/plain": [
       "id                                                                           1096082243192434668\n",
       "listing_url                                     https://www.airbnb.com/rooms/1096082243192434668\n",
       "scrape_id                                                                         20240316023820\n",
       "last_scraped                                                                          2024-03-18\n",
       "source                                                                               city scrape\n",
       "                                                                      ...                       \n",
       "calculated_host_listings_count                                                                 2\n",
       "calculated_host_listings_count_entire_homes                                                    1\n",
       "calculated_host_listings_count_private_rooms                                                   1\n",
       "calculated_host_listings_count_shared_rooms                                                    0\n",
       "reviews_per_month                                                                            NaN\n",
       "Name: 1, Length: 75, dtype: object"
      ]
     },
     "execution_count": 10,
     "metadata": {},
     "output_type": "execute_result"
    }
   ],
   "source": [
    "row_one = listing_data.iloc[1]\n",
    "row_one"
   ]
  },
  {
   "cell_type": "markdown",
   "metadata": {},
   "source": [
    "Series objects are _very_ similar to dictionaries. They have more properties though."
   ]
  },
  {
   "cell_type": "code",
   "execution_count": 24,
   "metadata": {},
   "outputs": [
    {
     "data": {
      "text/plain": [
       "nan"
      ]
     },
     "execution_count": 24,
     "metadata": {},
     "output_type": "execute_result"
    }
   ],
   "source": [
    "row_one[\"review_scores_rating\"]"
   ]
  },
  {
   "cell_type": "markdown",
   "metadata": {},
   "source": [
    "'Stop on/near marked foot crossing'"
   ]
  },
  {
   "cell_type": "markdown",
   "metadata": {},
   "source": [
    "You can access them like a dictionary ☝ or you can access them like a property 👇. \n",
    "\n",
    "I like the `my_series.key_name` best, but it won't work if there are spaces in your column title. That can happen if you are getting the data from somewhere else (i.e. you didn't make it)."
   ]
  },
  {
   "cell_type": "code",
   "execution_count": 25,
   "metadata": {},
   "outputs": [
    {
     "data": {
      "text/plain": [
       "nan"
      ]
     },
     "execution_count": 25,
     "metadata": {},
     "output_type": "execute_result"
    }
   ],
   "source": [
    "row_one.review_scores_rating"
   ]
  },
  {
   "cell_type": "markdown",
   "metadata": {},
   "source": [
    "'Stop on/near marked foot crossing'"
   ]
  },
  {
   "cell_type": "markdown",
   "metadata": {},
   "source": [
    "Doing the same thing on a dataframe gives us the whole column"
   ]
  },
  {
   "cell_type": "code",
   "execution_count": 26,
   "metadata": {},
   "outputs": [
    {
     "data": {
      "text/plain": [
       "0         NaN\n",
       "1         NaN\n",
       "2        4.00\n",
       "3        4.71\n",
       "4        4.00\n",
       "         ... \n",
       "14269    4.57\n",
       "14270    4.87\n",
       "14271    4.96\n",
       "14272     NaN\n",
       "14273    4.98\n",
       "Name: review_scores_rating, Length: 14274, dtype: float64"
      ]
     },
     "execution_count": 26,
     "metadata": {},
     "output_type": "execute_result"
    }
   ],
   "source": [
    "listing_data.review_scores_rating"
   ]
  },
  {
   "cell_type": "code",
   "execution_count": 27,
   "metadata": {},
   "outputs": [
    {
     "data": {
      "text/plain": [
       "<Axes: >"
      ]
     },
     "execution_count": 27,
     "metadata": {},
     "output_type": "execute_result"
    },
    {
     "data": {
      "image/png": "[encoded data removed]",
      "text/plain": [
       "<Figure size 1000x500 with 1 Axes>"
      ]
     },
     "metadata": {},
     "output_type": "display_data"
    }
   ],
   "source": [
    "listing_data[\"review_scores_rating\"].plot()"
   ]
  },
  {
   "cell_type": "markdown",
   "metadata": {},
   "source": [
    "If we do a simple `plot` on this column we get a pretty dense, but useless graph. It much better one would be a histogram."
   ]
  },
  {
   "cell_type": "code",
   "execution_count": 28,
   "metadata": {},
   "outputs": [
    {
     "data": {
      "text/plain": [
       "<Axes: >"
      ]
     },
     "execution_count": 28,
     "metadata": {},
     "output_type": "execute_result"
    },
    {
     "data": {
      "image/png": "[encoded data removed]",
      "text/plain": [
       "<Figure size 1000x500 with 1 Axes>"
      ]
     },
     "metadata": {},
     "output_type": "display_data"
    }
   ],
   "source": [
    "listing_data.review_scores_rating.hist()"
   ]
  },
  {
   "cell_type": "markdown",
   "metadata": {},
   "source": [
    "Let's exclude all the values above 3 stars, and see what it looks like.\n",
    "\n",
    "We can do that with a nice feature of pandas, _boolean indexing_:"
   ]
  },
  {
   "cell_type": "code",
   "execution_count": 32,
   "metadata": {},
   "outputs": [
    {
     "data": {
      "text/plain": [
       "<Axes: >"
      ]
     },
     "execution_count": 32,
     "metadata": {},
     "output_type": "execute_result"
    },
    {
     "data": {
      "image/png": "[encoded data removed]",
      "text/plain": [
       "<Figure size 1000x500 with 1 Axes>"
      ]
     },
     "metadata": {},
     "output_type": "display_data"
    }
   ],
   "source": [
    "listing_data.review_scores_rating[listing_data.review_scores_rating < 3].hist()"
   ]
  },
  {
   "cell_type": "markdown",
   "metadata": {},
   "source": [
    "We'll make our own series and call it  `some_numbers`\n",
    "\n",
    "Let's give it the values 0-99 "
   ]
  },
  {
   "cell_type": "code",
   "execution_count": 33,
   "metadata": {},
   "outputs": [
    {
     "data": {
      "text/plain": [
       "0    0\n",
       "1    1\n",
       "2    2\n",
       "3    3\n",
       "4    4\n",
       "dtype: int64"
      ]
     },
     "execution_count": 33,
     "metadata": {},
     "output_type": "execute_result"
    }
   ],
   "source": [
    "# Note the capital S, I have no idea why they did that!\n",
    "# but if you get an `AttributeError: 'module' object has no attribute 'series'` error...\n",
    "#                 v\n",
    "some_numbers = pd.Series(range(100))\n",
    "some_numbers.head()"
   ]
  },
  {
   "cell_type": "markdown",
   "metadata": {},
   "source": [
    "Anyway, back to our fines, it looks like we have a similar pattern of reviews per month here.\n",
    "\n",
    "This is using some pandas magic, not a list comprehension. The magic is that you can compare a series using < or > and get back a list of booleans. This wouldn't work using a list.\n",
    "\n",
    "Let's add one more thing too, to make these graphs less garbage 🗑, a title."
   ]
  },
  {
   "cell_type": "code",
   "execution_count": 39,
   "metadata": {},
   "outputs": [
    {
     "data": {
      "text/plain": [
       "Text(0.5, 1.0, 'Amount of listings with reviews above 3 per month')"
      ]
     },
     "execution_count": 39,
     "metadata": {},
     "output_type": "execute_result"
    },
    {
     "data": {
      "image/png": "[encoded data removed]",
      "text/plain": [
       "<Figure size 1000x500 with 1 Axes>"
      ]
     },
     "metadata": {},
     "output_type": "display_data"
    }
   ],
   "source": [
    "lower_bound = 3\n",
    "listing_data.reviews_per_month[listing_data.reviews_per_month > lower_bound].hist()\n",
    "plt.title(f\"Amount of listings with reviews above {lower_bound} per month\")"
   ]
  },
  {
   "cell_type": "code",
   "execution_count": 40,
   "metadata": {},
   "outputs": [
    {
     "data": {
      "text/plain": [
       "Text(0.5, 1.0, 'Amount of listings with reviews above 5 per month')"
      ]
     },
     "execution_count": 40,
     "metadata": {},
     "output_type": "execute_result"
    },
    {
     "data": {
      "image/png": "[encoded data removed]",
      "text/plain": [
       "<Figure size 1000x500 with 1 Axes>"
      ]
     },
     "metadata": {},
     "output_type": "display_data"
    }
   ],
   "source": [
    "lower_bound = 5\n",
    "listing_data.reviews_per_month[listing_data.reviews_per_month > lower_bound].hist()\n",
    "plt.title(f\"Amount of listings with reviews above {lower_bound} per month\")"
   ]
  }
 ],
 "metadata": {
  "kernelspec": {
   "display_name": "Python 3",
   "language": "python",
   "name": "python3"
  },
  "language_info": {
   "codemirror_mode": {
    "name": "ipython",
    "version": 3
   },
   "file_extension": ".py",
   "mimetype": "text/x-python",
   "name": "python",
   "nbconvert_exporter": "python",
   "pygments_lexer": "ipython3",
   "version": "3.12.3"
  }
 },
 "nbformat": 4,
 "nbformat_minor": 2
}
