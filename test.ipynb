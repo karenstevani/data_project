{
 "cells": [
  {
   "cell_type": "markdown",
   "id": "c2092f2d-519c-4375-adf3-0b2673cced33",
   "metadata": {
    "editable": true,
    "slideshow": {
     "slide_type": "slide"
    },
    "tags": []
   },
   "source": [
    "1+1"
   ]
  },
  {
   "cell_type": "markdown",
   "id": "77611e91-cf06-41cc-b29a-825c80591d56",
   "metadata": {},
   "source": [
    "# Hello world"
   ]
  },
  {
   "cell_type": "markdown",
   "id": "a8ccb8c6-e379-44e4-8316-7a6c6dc6a23b",
   "metadata": {
    "editable": true,
    "slideshow": {
     "slide_type": "fragment"
    },
    "tags": []
   },
   "source": [
    "## good bye cruel world"
   ]
  },
  {
   "cell_type": "code",
   "execution_count": null,
   "id": "cf7f7719-7369-420a-944a-80b12a1878d4",
   "metadata": {},
   "outputs": [],
   "source": []
  },
  {
   "cell_type": "code",
   "execution_count": null,
   "id": "0e5f5045-3d4e-447d-891c-b3e0c9dec127",
   "metadata": {},
   "outputs": [],
   "source": []
  }
 ],
 "metadata": {
  "kernelspec": {
   "display_name": "Python 3 (ipykernel)",
   "language": "python",
   "name": "python3"
  },
  "language_info": {
   "codemirror_mode": {
    "name": "ipython",
    "version": 3
   },
   "file_extension": ".py",
   "mimetype": "text/x-python",
   "name": "python",
   "nbconvert_exporter": "python",
   "pygments_lexer": "ipython3",
   "version": "3.12.3"
  }
 },
 "nbformat": 4,
 "nbformat_minor": 5
}
