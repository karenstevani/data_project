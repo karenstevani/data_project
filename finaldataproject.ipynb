{
 "cells": [
  {
   "cell_type": "markdown",
   "metadata": {},
   "source": [
    "# How and what affects the review scores of airbnb most; price, hosts, or location?"
   ]
  },
  {
   "cell_type": "markdown",
   "metadata": {},
   "source": [
    "Sydney Airbnb Data Listing"
   ]
  },
  {
   "cell_type": "markdown",
   "metadata": {},
   "source": [
    "Karen Stevani (z5573992)"
   ]
  },
  {
   "cell_type": "code",
   "execution_count": 2,
   "metadata": {},
   "outputs": [],
   "source": [
    "import os\n",
    "import pandas as pd\n",
    "import matplotlib\n",
    "import matplotlib.pyplot as plt\n",
    "import seaborn as sns\n",
    "import geopandas as gpd\n",
    "import numpy as np\n",
    "import plotly.graph_objects as go\n",
    "from datetime import datetime\n",
    "import math"
   ]
  },
  {
   "cell_type": "code",
   "execution_count": 3,
   "metadata": {},
   "outputs": [],
   "source": [
    "%matplotlib inline"
   ]
  },
  {
   "cell_type": "code",
   "execution_count": 4,
   "metadata": {},
   "outputs": [],
   "source": [
    "plt.rcParams[\"figure.figsize\"] = (30, 15)"
   ]
  },
  {
   "cell_type": "code",
   "execution_count": 5,
   "metadata": {},
   "outputs": [],
   "source": [
    "saved_style_state = matplotlib.rcParams.copy()  # give us a style state to go back to"
   ]
  },
  {
   "cell_type": "code",
   "execution_count": 6,
   "metadata": {},
   "outputs": [
    {
     "name": "stdout",
     "output_type": "stream",
     "text": [
      "loading from file\n",
      "done\n"
     ]
    }
   ],
   "source": [
    "#loading from file\n",
    "if os.path.isfile(\"sydney_airbnb_listing.csv\"):\n",
    "    filepath = \"sydney_airbnb_listing.csv\"\n",
    "    print(\"loading from file\")\n",
    "else:\n",
    "    filepath = \"https://data.insideairbnb.com/australia/nsw/sydney/2024-03-16/data/listings.csv.gz\"\n",
    "    print(\"loading from the internet\")\n",
    "\n",
    "listing_data = pd.read_csv(filepath)\n",
    "print(\"done\")"
   ]
  },
  {
   "cell_type": "code",
   "execution_count": 7,
   "metadata": {},
   "outputs": [],
   "source": [
    "shp_file_name = r\"gda2020 (1).zip\"\n",
    "zip_file_name = \"nsw_locality_polygon_shp.zip\"\n",
    "web_file_path = (\n",
    "    \"https://data.gov.au/data/dataset\"\n",
    "    \"91e70237-d9d1-4719-a82f-e71b811154c6/resource/\"\n",
    "    \"5e295412-357c-49a2-98d5-6caf099c2339/dowload/\"\n",
    "    \"nsw_locality_polygon_shp.zip\"\n",
    ")"
   ]
  },
  {
   "cell_type": "code",
   "execution_count": 8,
   "metadata": {},
   "outputs": [],
   "source": [
    "def unzip_zipfile(zipped_file_path, put_it_here=\".\"):\n",
    "    import zipfile\n",
    "    zip_of_suburbs = zipfile.zipfile(zipped_file_path, 'r')\n",
    "    zip_of_suburbs.extractall(put_it_here)\n",
    "    zip_of_suburbs.close()"
   ]
  },
  {
   "cell_type": "code",
   "execution_count": 9,
   "metadata": {},
   "outputs": [
    {
     "name": "stdout",
     "output_type": "stream",
     "text": [
      "loading from file\n",
      "done\n"
     ]
    }
   ],
   "source": [
    "if os.path.isfile(shp_file_name):\n",
    "    print(\"loading from file\")\n",
    "else:\n",
    "    if os.path.isfile(zip_file_name):\n",
    "        print(\"unzipping\")\n",
    "        unzip_zipfile(zip_file_name)\n",
    "    else:\n",
    "        import requests\n",
    "        print(\"loading from the internet\")\n",
    "        page = requests.get(web_file_path)\n",
    "        with open(zip_file_name, \"wb\") as z:\n",
    "            z.write(page.content)\n",
    "        unzip_zipfile(zip_file_name)\n",
    "\n",
    "print(\"done\")"
   ]
  },
  {
   "cell_type": "markdown",
   "metadata": {},
   "source": [
    "Data Set: \"Detailed Sydney Listings data\" from insideairbnb.com\n",
    "\n",
    "Published by: Inside Airbnb, licensed under a Creative Commons Attribution 4.0 International License, on 10 June 2024\n",
    "\n",
    "With a total of 14274 rows and 75 columns, this dataset explores Sydney's airbnb market that has steadily started from the year of 2009 to current times. It provides information of hosts behaviors (name, id, verification, address, the time they started, response rate, response time, listing count, the license they used, and more), listing informations (price, longitude, latitude, availability, how many person it accommodates, amount of rooms and bathrooms, facilities, property type and more), and various reviews related to it.\n",
    "\n",
    "Sydney, a place with one of the highest housing market prices right now, is an area that is highly famous with tourism. Because of this, airbnbs play a pivotal role in providing shelter for tourists and sometimes even for longer stays of immigrants or locals in the area. Which is why through this data project, comparisons of price, host, and locations are analyzed to see whether and how much they affect each other. As well as if they correlate to the review scores and should affect your choice in booking an airbnb."
   ]
  },
  {
   "cell_type": "code",
   "execution_count": 10,
   "metadata": {},
   "outputs": [
    {
     "data": {
      "text/html": [
       "<div>\n",
       "<style scoped>\n",
       "    .dataframe tbody tr th:only-of-type {\n",
       "        vertical-align: middle;\n",
       "    }\n",
       "\n",
       "    .dataframe tbody tr th {\n",
       "        vertical-align: top;\n",
       "    }\n",
       "\n",
       "    .dataframe thead th {\n",
       "        text-align: right;\n",
       "    }\n",
       "</style>\n",
       "<table border=\"1\" class=\"dataframe\">\n",
       "  <thead>\n",
       "    <tr style=\"text-align: right;\">\n",
       "      <th></th>\n",
       "      <th>id</th>\n",
       "      <th>listing_url</th>\n",
       "      <th>scrape_id</th>\n",
       "      <th>last_scraped</th>\n",
       "      <th>source</th>\n",
       "      <th>name</th>\n",
       "      <th>description</th>\n",
       "      <th>neighborhood_overview</th>\n",
       "      <th>picture_url</th>\n",
       "      <th>host_id</th>\n",
       "      <th>...</th>\n",
       "      <th>review_scores_communication</th>\n",
       "      <th>review_scores_location</th>\n",
       "      <th>review_scores_value</th>\n",
       "      <th>license</th>\n",
       "      <th>instant_bookable</th>\n",
       "      <th>calculated_host_listings_count</th>\n",
       "      <th>calculated_host_listings_count_entire_homes</th>\n",
       "      <th>calculated_host_listings_count_private_rooms</th>\n",
       "      <th>calculated_host_listings_count_shared_rooms</th>\n",
       "      <th>reviews_per_month</th>\n",
       "    </tr>\n",
       "  </thead>\n",
       "  <tbody>\n",
       "    <tr>\n",
       "      <th>0</th>\n",
       "      <td>1050164598350388320</td>\n",
       "      <td>https://www.airbnb.com/rooms/1050164598350388320</td>\n",
       "      <td>20240316023820</td>\n",
       "      <td>2024-03-18</td>\n",
       "      <td>city scrape</td>\n",
       "      <td>Self service English breakfast</td>\n",
       "      <td>Close to transport airport older style unit ne...</td>\n",
       "      <td>NaN</td>\n",
       "      <td>https://a0.muscache.com/pictures/miso/Hosting-...</td>\n",
       "      <td>211218678</td>\n",
       "      <td>...</td>\n",
       "      <td>NaN</td>\n",
       "      <td>NaN</td>\n",
       "      <td>NaN</td>\n",
       "      <td>PID-STRA-61891</td>\n",
       "      <td>f</td>\n",
       "      <td>1</td>\n",
       "      <td>0</td>\n",
       "      <td>1</td>\n",
       "      <td>0</td>\n",
       "      <td>NaN</td>\n",
       "    </tr>\n",
       "    <tr>\n",
       "      <th>1</th>\n",
       "      <td>1096082243192434668</td>\n",
       "      <td>https://www.airbnb.com/rooms/1096082243192434668</td>\n",
       "      <td>20240316023820</td>\n",
       "      <td>2024-03-18</td>\n",
       "      <td>city scrape</td>\n",
       "      <td>Apartment in Rushcutters Bay</td>\n",
       "      <td>Full 2 bedroom apartment with balcony. Walking...</td>\n",
       "      <td>NaN</td>\n",
       "      <td>https://a0.muscache.com/pictures/miso/Hosting-...</td>\n",
       "      <td>26721338</td>\n",
       "      <td>...</td>\n",
       "      <td>NaN</td>\n",
       "      <td>NaN</td>\n",
       "      <td>NaN</td>\n",
       "      <td>Exempt</td>\n",
       "      <td>f</td>\n",
       "      <td>2</td>\n",
       "      <td>1</td>\n",
       "      <td>1</td>\n",
       "      <td>0</td>\n",
       "      <td>NaN</td>\n",
       "    </tr>\n",
       "    <tr>\n",
       "      <th>2</th>\n",
       "      <td>2167538</td>\n",
       "      <td>https://www.airbnb.com/rooms/2167538</td>\n",
       "      <td>20240316023820</td>\n",
       "      <td>2024-03-18</td>\n",
       "      <td>city scrape</td>\n",
       "      <td>Modern Sydney home near beach,shops</td>\n",
       "      <td>**Availability extremely flexible**&lt;br /&gt;&lt;br /...</td>\n",
       "      <td>Queens Park is a safe and friendly neighbourho...</td>\n",
       "      <td>https://a0.muscache.com/pictures/29922910/2399...</td>\n",
       "      <td>11059668</td>\n",
       "      <td>...</td>\n",
       "      <td>5.00</td>\n",
       "      <td>5.00</td>\n",
       "      <td>4.00</td>\n",
       "      <td>NaN</td>\n",
       "      <td>f</td>\n",
       "      <td>1</td>\n",
       "      <td>1</td>\n",
       "      <td>0</td>\n",
       "      <td>0</td>\n",
       "      <td>0.01</td>\n",
       "    </tr>\n",
       "    <tr>\n",
       "      <th>3</th>\n",
       "      <td>790607305500629830</td>\n",
       "      <td>https://www.airbnb.com/rooms/790607305500629830</td>\n",
       "      <td>20240316023820</td>\n",
       "      <td>2024-03-18</td>\n",
       "      <td>city scrape</td>\n",
       "      <td>Luxury double room</td>\n",
       "      <td>Relax in this tranquil and stylish space.</td>\n",
       "      <td>NaN</td>\n",
       "      <td>https://a0.muscache.com/pictures/miso/Hosting-...</td>\n",
       "      <td>202112801</td>\n",
       "      <td>...</td>\n",
       "      <td>4.77</td>\n",
       "      <td>4.68</td>\n",
       "      <td>4.68</td>\n",
       "      <td>PID-STRA-21723</td>\n",
       "      <td>f</td>\n",
       "      <td>30</td>\n",
       "      <td>5</td>\n",
       "      <td>25</td>\n",
       "      <td>0</td>\n",
       "      <td>2.13</td>\n",
       "    </tr>\n",
       "    <tr>\n",
       "      <th>4</th>\n",
       "      <td>641106357139201992</td>\n",
       "      <td>https://www.airbnb.com/rooms/641106357139201992</td>\n",
       "      <td>20240316023820</td>\n",
       "      <td>2024-03-18</td>\n",
       "      <td>city scrape</td>\n",
       "      <td>Chic Studio Apartment in Prime Bondi Location</td>\n",
       "      <td>Immerse yourself in the vibrant atmosphere of ...</td>\n",
       "      <td>Bondi is one of Australia’s most iconic suburb...</td>\n",
       "      <td>https://a0.muscache.com/pictures/prohost-api/H...</td>\n",
       "      <td>279001183</td>\n",
       "      <td>...</td>\n",
       "      <td>3.94</td>\n",
       "      <td>4.94</td>\n",
       "      <td>4.29</td>\n",
       "      <td>PID-STRA-36651</td>\n",
       "      <td>f</td>\n",
       "      <td>217</td>\n",
       "      <td>217</td>\n",
       "      <td>0</td>\n",
       "      <td>0</td>\n",
       "      <td>0.84</td>\n",
       "    </tr>\n",
       "  </tbody>\n",
       "</table>\n",
       "<p>5 rows × 75 columns</p>\n",
       "</div>"
      ],
      "text/plain": [
       "                    id                                       listing_url  \\\n",
       "0  1050164598350388320  https://www.airbnb.com/rooms/1050164598350388320   \n",
       "1  1096082243192434668  https://www.airbnb.com/rooms/1096082243192434668   \n",
       "2              2167538              https://www.airbnb.com/rooms/2167538   \n",
       "3   790607305500629830   https://www.airbnb.com/rooms/790607305500629830   \n",
       "4   641106357139201992   https://www.airbnb.com/rooms/641106357139201992   \n",
       "\n",
       "        scrape_id last_scraped       source  \\\n",
       "0  20240316023820   2024-03-18  city scrape   \n",
       "1  20240316023820   2024-03-18  city scrape   \n",
       "2  20240316023820   2024-03-18  city scrape   \n",
       "3  20240316023820   2024-03-18  city scrape   \n",
       "4  20240316023820   2024-03-18  city scrape   \n",
       "\n",
       "                                            name  \\\n",
       "0                 Self service English breakfast   \n",
       "1                   Apartment in Rushcutters Bay   \n",
       "2            Modern Sydney home near beach,shops   \n",
       "3                             Luxury double room   \n",
       "4  Chic Studio Apartment in Prime Bondi Location   \n",
       "\n",
       "                                         description  \\\n",
       "0  Close to transport airport older style unit ne...   \n",
       "1  Full 2 bedroom apartment with balcony. Walking...   \n",
       "2  **Availability extremely flexible**<br /><br /...   \n",
       "3          Relax in this tranquil and stylish space.   \n",
       "4  Immerse yourself in the vibrant atmosphere of ...   \n",
       "\n",
       "                               neighborhood_overview  \\\n",
       "0                                                NaN   \n",
       "1                                                NaN   \n",
       "2  Queens Park is a safe and friendly neighbourho...   \n",
       "3                                                NaN   \n",
       "4  Bondi is one of Australia’s most iconic suburb...   \n",
       "\n",
       "                                         picture_url    host_id  ...  \\\n",
       "0  https://a0.muscache.com/pictures/miso/Hosting-...  211218678  ...   \n",
       "1  https://a0.muscache.com/pictures/miso/Hosting-...   26721338  ...   \n",
       "2  https://a0.muscache.com/pictures/29922910/2399...   11059668  ...   \n",
       "3  https://a0.muscache.com/pictures/miso/Hosting-...  202112801  ...   \n",
       "4  https://a0.muscache.com/pictures/prohost-api/H...  279001183  ...   \n",
       "\n",
       "  review_scores_communication review_scores_location review_scores_value  \\\n",
       "0                         NaN                    NaN                 NaN   \n",
       "1                         NaN                    NaN                 NaN   \n",
       "2                        5.00                   5.00                4.00   \n",
       "3                        4.77                   4.68                4.68   \n",
       "4                        3.94                   4.94                4.29   \n",
       "\n",
       "          license instant_bookable calculated_host_listings_count  \\\n",
       "0  PID-STRA-61891                f                              1   \n",
       "1          Exempt                f                              2   \n",
       "2             NaN                f                              1   \n",
       "3  PID-STRA-21723                f                             30   \n",
       "4  PID-STRA-36651                f                            217   \n",
       "\n",
       "  calculated_host_listings_count_entire_homes  \\\n",
       "0                                           0   \n",
       "1                                           1   \n",
       "2                                           1   \n",
       "3                                           5   \n",
       "4                                         217   \n",
       "\n",
       "  calculated_host_listings_count_private_rooms  \\\n",
       "0                                            1   \n",
       "1                                            1   \n",
       "2                                            0   \n",
       "3                                           25   \n",
       "4                                            0   \n",
       "\n",
       "  calculated_host_listings_count_shared_rooms reviews_per_month  \n",
       "0                                           0               NaN  \n",
       "1                                           0               NaN  \n",
       "2                                           0              0.01  \n",
       "3                                           0              2.13  \n",
       "4                                           0              0.84  \n",
       "\n",
       "[5 rows x 75 columns]"
      ]
     },
     "execution_count": 10,
     "metadata": {},
     "output_type": "execute_result"
    }
   ],
   "source": [
    "listing_data.head()"
   ]
  },
  {
   "cell_type": "code",
   "execution_count": 11,
   "metadata": {},
   "outputs": [
    {
     "data": {
      "text/plain": [
       "Index(['id', 'listing_url', 'scrape_id', 'last_scraped', 'source', 'name',\n",
       "       'description', 'neighborhood_overview', 'picture_url', 'host_id',\n",
       "       'host_url', 'host_name', 'host_since', 'host_location', 'host_about',\n",
       "       'host_response_time', 'host_response_rate', 'host_acceptance_rate',\n",
       "       'host_is_superhost', 'host_thumbnail_url', 'host_picture_url',\n",
       "       'host_neighbourhood', 'host_listings_count',\n",
       "       'host_total_listings_count', 'host_verifications',\n",
       "       'host_has_profile_pic', 'host_identity_verified', 'neighbourhood',\n",
       "       'neighbourhood_cleansed', 'neighbourhood_group_cleansed', 'latitude',\n",
       "       'longitude', 'property_type', 'room_type', 'accommodates', 'bathrooms',\n",
       "       'bathrooms_text', 'bedrooms', 'beds', 'amenities', 'price',\n",
       "       'minimum_nights', 'maximum_nights', 'minimum_minimum_nights',\n",
       "       'maximum_minimum_nights', 'minimum_maximum_nights',\n",
       "       'maximum_maximum_nights', 'minimum_nights_avg_ntm',\n",
       "       'maximum_nights_avg_ntm', 'calendar_updated', 'has_availability',\n",
       "       'availability_30', 'availability_60', 'availability_90',\n",
       "       'availability_365', 'calendar_last_scraped', 'number_of_reviews',\n",
       "       'number_of_reviews_ltm', 'number_of_reviews_l30d', 'first_review',\n",
       "       'last_review', 'review_scores_rating', 'review_scores_accuracy',\n",
       "       'review_scores_cleanliness', 'review_scores_checkin',\n",
       "       'review_scores_communication', 'review_scores_location',\n",
       "       'review_scores_value', 'license', 'instant_bookable',\n",
       "       'calculated_host_listings_count',\n",
       "       'calculated_host_listings_count_entire_homes',\n",
       "       'calculated_host_listings_count_private_rooms',\n",
       "       'calculated_host_listings_count_shared_rooms', 'reviews_per_month'],\n",
       "      dtype='object')"
      ]
     },
     "execution_count": 11,
     "metadata": {},
     "output_type": "execute_result"
    }
   ],
   "source": [
    "listing_data.columns"
   ]
  },
  {
   "cell_type": "markdown",
   "metadata": {},
   "source": [
    "#### 1. Value (Price)"
   ]
  },
  {
   "cell_type": "markdown",
   "metadata": {},
   "source": [
    "Value that is discussed here is in relation to pricing. As potential customers, we are always looking for reasonable value for our money's worth, especially in Sydney's curent intense housing market state. Although there are also aspects that affects pricing itself, such as the amount of space, facilities, location, hygiene, estate's age and more, this filtration process will mainly focus on standardizing the price for accomodating one person's living and the average price airbnb price for one person as a benchmark."
   ]
  },
  {
   "cell_type": "code",
   "execution_count": 12,
   "metadata": {},
   "outputs": [
    {
     "data": {
      "text/plain": [
       "0        $100.00\n",
       "1        $250.00\n",
       "2        $650.00\n",
       "3         $84.00\n",
       "4        $508.00\n",
       "          ...   \n",
       "14269     $88.00\n",
       "14270    $143.00\n",
       "14271    $120.00\n",
       "14272    $180.00\n",
       "14273    $123.00\n",
       "Name: price, Length: 14274, dtype: object"
      ]
     },
     "execution_count": 12,
     "metadata": {},
     "output_type": "execute_result"
    }
   ],
   "source": [
    "listing_data.price"
   ]
  },
  {
   "cell_type": "code",
   "execution_count": 13,
   "metadata": {},
   "outputs": [
    {
     "data": {
      "text/plain": [
       "0        2\n",
       "1        4\n",
       "2        5\n",
       "3        1\n",
       "4        2\n",
       "        ..\n",
       "14269    2\n",
       "14270    2\n",
       "14271    4\n",
       "14272    2\n",
       "14273    2\n",
       "Name: accommodates, Length: 14274, dtype: int64"
      ]
     },
     "execution_count": 13,
     "metadata": {},
     "output_type": "execute_result"
    }
   ],
   "source": [
    "listing_data.accommodates"
   ]
  },
  {
   "cell_type": "code",
   "execution_count": 14,
   "metadata": {},
   "outputs": [
    {
     "name": "stderr",
     "output_type": "stream",
     "text": [
      "<>:1: SyntaxWarning: invalid escape sequence '\\$'\n",
      "<>:1: SyntaxWarning: invalid escape sequence '\\$'\n",
      "C:\\Users\\karen\\AppData\\Local\\Temp\\ipykernel_21604\\2283849491.py:1: SyntaxWarning: invalid escape sequence '\\$'\n",
      "  listing_data['price'] = listing_data['price'].replace({'\\$': '', ',': ''}, regex=True)\n"
     ]
    }
   ],
   "source": [
    "listing_data['price'] = listing_data['price'].replace({'\\$': '', ',': ''}, regex=True)\n",
    "listing_data['price'] = pd.to_numeric(listing_data['price'], errors='coerce').astype('Int64')  # Use 'Int64' to handle NaN values\n",
    "listing_data['price'] = listing_data['price'].fillna(0).astype(int)"
   ]
  },
  {
   "cell_type": "code",
   "execution_count": 15,
   "metadata": {},
   "outputs": [
    {
     "data": {
      "text/plain": [
       "0         50.0\n",
       "1         62.5\n",
       "2        130.0\n",
       "3         84.0\n",
       "4        254.0\n",
       "         ...  \n",
       "14269     44.0\n",
       "14270     71.5\n",
       "14271     30.0\n",
       "14272     90.0\n",
       "14273     61.5\n",
       "Name: standard_price, Length: 14274, dtype: float64"
      ]
     },
     "execution_count": 15,
     "metadata": {},
     "output_type": "execute_result"
    }
   ],
   "source": [
    "listing_data['standard_price'] = listing_data['price'] / listing_data['accommodates']\n",
    "listing_data.standard_price"
   ]
  },
  {
   "cell_type": "code",
   "execution_count": 16,
   "metadata": {},
   "outputs": [
    {
     "name": "stdout",
     "output_type": "stream",
     "text": [
      "The average price is: $395.94689645509317\n",
      "The average price per person is: $95.22062845427966\n"
     ]
    }
   ],
   "source": [
    "average_price = listing_data['price'].mean()\n",
    "print(f\"The average price is: ${average_price}\")\n",
    "\n",
    "average_standard_price = listing_data['standard_price'].mean()\n",
    "print(f\"The average price per person is: ${average_standard_price}\")"
   ]
  },
  {
   "cell_type": "markdown",
   "metadata": {},
   "source": [
    "Through taking data from the price column and corresspondingly, the accommodates column, I am able to manipulate their data types to create a new column that divides the two values together respectively. This allows a more standardized price that will allow a fairer comparison later with other categories. I also extracted the average price to book an airbnb in sydney for future reference, which are roughly $396 for its original non standerdized price and $95 as the average for one airbnb night booking per person."
   ]
  },
  {
   "cell_type": "markdown",
   "metadata": {},
   "source": [
    "#### 2. Hosts"
   ]
  },
  {
   "cell_type": "markdown",
   "metadata": {},
   "source": [
    "Hosts are the landlords of airbnbs. They are the owners of the airbnb property and sometimes lives in the property they are listing. There are many information categories that are provided of the host in this dataset. Some of the more interesting ones include where they are located and the license they used for verification. But for the main exploration of host's correlation to review scores and the other two aspects being questioned, the duration length of them being hosts is the main focused column"
   ]
  },
  {
   "cell_type": "code",
   "execution_count": 29,
   "metadata": {},
   "outputs": [
    {
     "data": {
      "text/plain": [
       "host_identity_verified\n",
       "t    13605\n",
       "f      669\n",
       "Name: count, dtype: int64"
      ]
     },
     "execution_count": 29,
     "metadata": {},
     "output_type": "execute_result"
    }
   ],
   "source": [
    "listing_data.host_identity_verified.value_counts()"
   ]
  },
  {
   "cell_type": "code",
   "execution_count": 37,
   "metadata": {},
   "outputs": [
    {
     "data": {
      "text/plain": [
       "<Figure size 500x250 with 0 Axes>"
      ]
     },
     "metadata": {},
     "output_type": "display_data"
    },
    {
     "data": {
      "image/png": "[encoded data removed]",
      "text/plain": [
       "<Figure size 3000x1500 with 1 Axes>"
      ]
     },
     "metadata": {},
     "output_type": "display_data"
    }
   ],
   "source": [
    "data = {'Status': ['Verified', 'Not Verified'], 'Count': [13605, 669]}\n",
    "licensepie = pd.DataFrame(data)\n",
    "\n",
    "plt.figure(figsize=(5, 2.5))\n",
    "licensepie.set_index('Status').plot.pie(y='Count', autopct='%1.1f%%', colors=['#ff9999','#66b3ff'], legend=False, startangle=140)\n",
    "plt.title('Host Identity Verification Status')\n",
    "plt.ylabel('')\n",
    "plt.show()"
   ]
  },
  {
   "cell_type": "markdown",
   "metadata": {},
   "source": [
    "As seen from the data, majority of hosts (95.3%) are verified with their status as a host, whereas a minority of 7.4% are not. This will be explored further later if it causes any effect on the airbnb reviews. "
   ]
  },
  {
   "cell_type": "code",
   "execution_count": 53,
   "metadata": {},
   "outputs": [
    {
     "data": {
      "text/plain": [
       "0        2018-08-22\n",
       "1        2015-01-26\n",
       "2        2014-01-06\n",
       "3        2018-07-13\n",
       "4        2019-07-24\n",
       "            ...    \n",
       "14269    2015-02-23\n",
       "14270    2015-12-21\n",
       "14271    2022-07-03\n",
       "14272    2023-10-07\n",
       "14273    2017-10-08\n",
       "Name: host_since, Length: 14274, dtype: object"
      ]
     },
     "execution_count": 53,
     "metadata": {},
     "output_type": "execute_result"
    }
   ],
   "source": [
    "listing_data.host_since"
   ]
  },
  {
   "cell_type": "code",
   "execution_count": 54,
   "metadata": {},
   "outputs": [
    {
     "data": {
      "text/plain": [
       "'The range of someone becoming an airbnb host in Sydney is June, 2009 to March, 2024'"
      ]
     },
     "execution_count": 54,
     "metadata": {},
     "output_type": "execute_result"
    }
   ],
   "source": [
    "listing_data['host_since'] = pd.to_datetime(listing_data['host_since'])\n",
    "date_format_pattern = \"%B, %Y\"\n",
    "earliest_date = datetime.strftime(listing_data.host_since.min(), date_format_pattern)\n",
    "latest_date = datetime.strftime(listing_data.host_since.max(), date_format_pattern)\n",
    "f\"The range of someone becoming an airbnb host in Sydney is {earliest_date} to {latest_date}\""
   ]
  },
  {
   "cell_type": "code",
   "execution_count": 56,
   "metadata": {},
   "outputs": [
    {
     "data": {
      "text/plain": [
       "0        2171\n",
       "1        3475\n",
       "2        3860\n",
       "3        2211\n",
       "4        1835\n",
       "         ... \n",
       "14269    3447\n",
       "14270    3146\n",
       "14271     760\n",
       "14272     299\n",
       "14273    2489\n",
       "Name: days_since_start, Length: 14274, dtype: int64"
      ]
     },
     "execution_count": 56,
     "metadata": {},
     "output_type": "execute_result"
    }
   ],
   "source": [
    "listing_data['host_since'] = pd.to_datetime(listing_data['host_since'])\n",
    "reference_date = pd.Timestamp('2024-08-01')\n",
    "listing_data['days_since_start'] = (reference_date - listing_data['host_since']).dt.days\n",
    "listing_data.days_since_start"
   ]
  },
  {
   "cell_type": "code",
   "execution_count": 57,
   "metadata": {},
   "outputs": [
    {
     "name": "stdout",
     "output_type": "stream",
     "text": [
      "The average age someone has become an airbnb host in Sydney is 2615.159030404932 days\n"
     ]
    }
   ],
   "source": [
    "average_age_as_host = listing_data['days_since_start'].mean()\n",
    "print(f\"The average age someone has become an airbnb host in Sydney is {average_age_as_host} days\")"
   ]
  },
  {
   "cell_type": "markdown",
   "metadata": {},
   "source": [
    "After calculations, the average duration someone has become an airbnb host in Sydney is 2622.159030404932 days or roughly about 7 years, 2 months, and 5 days. Meaning most airbnb hosts, started listing around 2017. With the new column calculated of how long (in terms of days) each person has become an airbnb host in Sydney, this allows comparison graph of the host compared to the other aspects issued and the main review scores"
   ]
  }
 ],
 "metadata": {
  "kernelspec": {
   "display_name": "Python 3",
   "language": "python",
   "name": "python3"
  },
  "language_info": {
   "codemirror_mode": {
    "name": "ipython",
    "version": 3
   },
   "file_extension": ".py",
   "mimetype": "text/x-python",
   "name": "python",
   "nbconvert_exporter": "python",
   "pygments_lexer": "ipython3",
   "version": "3.12.3"
  }
 },
 "nbformat": 4,
 "nbformat_minor": 2
}
