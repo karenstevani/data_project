{
 "cells": [
  {
   "cell_type": "markdown",
   "metadata": {},
   "source": [
    "# How and what affects the review scores of airbnb most; location, value or hosts?"
   ]
  },
  {
   "cell_type": "markdown",
   "metadata": {},
   "source": [
    "Sydney Airbnb Data Listing"
   ]
  },
  {
   "cell_type": "markdown",
   "metadata": {},
   "source": [
    "Karen Stevani (z5573992)"
   ]
  },
  {
   "cell_type": "code",
   "execution_count": 1,
   "metadata": {},
   "outputs": [],
   "source": [
    "import os\n",
    "import pandas as pd\n",
    "import matplotlib\n",
    "import matplotlib.pyplot as plt\n",
    "import seaborn as sns\n",
    "import geopandas as gpd\n",
    "import numpy as np\n",
    "import plotly.graph_objects as go\n",
    "from datetime import datetime\n",
    "import math"
   ]
  },
  {
   "cell_type": "code",
   "execution_count": 2,
   "metadata": {},
   "outputs": [],
   "source": [
    "%matplotlib inline"
   ]
  },
  {
   "cell_type": "code",
   "execution_count": 3,
   "metadata": {},
   "outputs": [],
   "source": [
    "plt.rcParams[\"figure.figsize\"] = (30, 15)"
   ]
  },
  {
   "cell_type": "code",
   "execution_count": 4,
   "metadata": {},
   "outputs": [],
   "source": [
    "saved_style_state = matplotlib.rcParams.copy()  # give us a style state to go back to"
   ]
  },
  {
   "cell_type": "code",
   "execution_count": 5,
   "metadata": {},
   "outputs": [
    {
     "name": "stdout",
     "output_type": "stream",
     "text": [
      "loading from file\n",
      "done\n"
     ]
    }
   ],
   "source": [
    "#loading from file\n",
    "if os.path.isfile(\"sydney_airbnb_listing.csv\"):\n",
    "    filepath = \"sydney_airbnb_listing.csv\"\n",
    "    print(\"loading from file\")\n",
    "else:\n",
    "    filepath = \"https://data.insideairbnb.com/australia/nsw/sydney/2024-03-16/data/listings.csv.gz\"\n",
    "    print(\"loading from the internet\")\n",
    "\n",
    "listing_data = pd.read_csv(filepath)\n",
    "print(\"done\")"
   ]
  },
  {
   "cell_type": "code",
   "execution_count": 6,
   "metadata": {},
   "outputs": [],
   "source": [
    "shp_file_name = r\"gda2020 (1).zip\"\n",
    "zip_file_name = \"nsw_locality_polygon_shp.zip\"\n",
    "web_file_path = (\n",
    "    \"https://data.gov.au/data/dataset\"\n",
    "    \"91e70237-d9d1-4719-a82f-e71b811154c6/resource/\"\n",
    "    \"5e295412-357c-49a2-98d5-6caf099c2339/dowload/\"\n",
    "    \"nsw_locality_polygon_shp.zip\"\n",
    ")"
   ]
  },
  {
   "cell_type": "code",
   "execution_count": 7,
   "metadata": {},
   "outputs": [],
   "source": [
    "def unzip_zipfile(zipped_file_path, put_it_here=\".\"):\n",
    "    import zipfile\n",
    "    zip_of_suburbs = zipfile.zipfile(zipped_file_path, 'r')\n",
    "    zip_of_suburbs.extractall(put_it_here)\n",
    "    zip_of_suburbs.close()"
   ]
  },
  {
   "cell_type": "code",
   "execution_count": 8,
   "metadata": {},
   "outputs": [
    {
     "name": "stdout",
     "output_type": "stream",
     "text": [
      "loading from file\n",
      "done\n"
     ]
    }
   ],
   "source": [
    "if os.path.isfile(shp_file_name):\n",
    "    print(\"loading from file\")\n",
    "else:\n",
    "    if os.path.isfile(zip_file_name):\n",
    "        print(\"unzipping\")\n",
    "        unzip_zipfile(zip_file_name)\n",
    "    else:\n",
    "        import requests\n",
    "        print(\"loading from the internet\")\n",
    "        page = requests.get(web_file_path)\n",
    "        with open(zip_file_name, \"wb\") as z:\n",
    "            z.write(page.content)\n",
    "        unzip_zipfile(zip_file_name)\n",
    "\n",
    "print(\"done\")"
   ]
  },
  {
   "cell_type": "markdown",
   "metadata": {},
   "source": [
    "Data Set: \"Detailed Sydney Listings data\" from insideairbnb.com\n",
    "\n",
    "Published by: Inside Airbnb, licensed under a Creative Commons Attribution 4.0 International License, on 10 June 2024\n",
    "\n",
    "This data explores ...."
   ]
  }
 ],
 "metadata": {
  "kernelspec": {
   "display_name": "Python 3",
   "language": "python",
   "name": "python3"
  },
  "language_info": {
   "codemirror_mode": {
    "name": "ipython",
    "version": 3
   },
   "file_extension": ".py",
   "mimetype": "text/x-python",
   "name": "python",
   "nbconvert_exporter": "python",
   "pygments_lexer": "ipython3",
   "version": "3.12.3"
  }
 },
 "nbformat": 4,
 "nbformat_minor": 2
}
